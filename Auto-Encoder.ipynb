{
  "cells": [
    {
      "cell_type": "code",
      "execution_count": null,
      "metadata": {
        "id": "M8-5qdB9aktj"
      },
      "outputs": [],
      "source": [
        "import torch.nn as nn\n",
        "import torch.nn.functional as F\n",
        "import torch\n",
        "import matplotlib.pyplot as plt"
      ]
    },
    {
      "cell_type": "code",
      "execution_count": null,
      "metadata": {
        "id": "q8DdHVoPaktk"
      },
      "outputs": [],
      "source": [
        "from torchvision import datasets, transforms\n",
        "\n",
        "mnist_trainset = datasets.MNIST(root='./data', download=True, transform=transforms.ToTensor())\n"
      ]
    },
    {
      "cell_type": "code",
      "execution_count": null,
      "metadata": {
        "id": "yHhJS9RwXYHs"
      },
      "outputs": [],
      "source": [
        "import math\n",
        "\n",
        "def calc_H_out_conv2d(H_in, kernel_size, stride, padding):\n",
        "    return math.floor((H_in + 2 * padding - kernel_size) / stride + 1)\n",
        "\n",
        "def calc_H_out_conv2d_transpose(H_in, kernel_size, stride, padding):\n",
        "    return (H_in - 1) * stride - 2 * padding + kernel_size\n"
      ]
    },
    {
      "cell_type": "code",
      "execution_count": null,
      "metadata": {
        "colab": {
          "base_uri": "https://localhost:8080/"
        },
        "id": "FVRRLYl_XRE_",
        "outputId": "fd4dbd40-2ffd-4e39-9b24-fd463e4b3eed"
      },
      "outputs": [
        {
          "name": "stdout",
          "output_type": "stream",
          "text": [
            "16\n",
            "8\n",
            "4\n",
            "1\n"
          ]
        }
      ],
      "source": [
        "print(calc_H_out_conv2d(28, 15, 1, 1))\n",
        "print(calc_H_out_conv2d(16, 3, 2, 1))\n",
        "print(calc_H_out_conv2d(8, 3, 2, 1))\n",
        "print(calc_H_out_conv2d(4, 5, 2, 1))"
      ]
    },
    {
      "cell_type": "code",
      "execution_count": null,
      "metadata": {
        "id": "NJKib5ePaktl"
      },
      "outputs": [],
      "source": [
        "# our encoder make 64x1x1 tensor from 1x28x28 tensor\n",
        "\n",
        "class Encoder(nn.Module):\n",
        "    def __init__(self):\n",
        "        super(Encoder, self).__init__()\n",
        "        self.conv1 = nn.Conv2d(in_channels=1, out_channels=8, kernel_size=15, stride=1, padding=1)     # 8x16x16\n",
        "        self.conv2 = nn.Conv2d(in_channels=8, out_channels=16, kernel_size=3, stride=2, padding=1)     # 16x8x8\n",
        "        self.conv3 = nn.Conv2d(in_channels=16, out_channels=32, kernel_size=3, stride=2, padding=1)     # 32x4x4\n",
        "        self.conv4 = nn.Conv2d(in_channels=32, out_channels=64, kernel_size=5, stride=2, padding=1)     # 64x1x1\n",
        "\n",
        "\n",
        "\n",
        "\n",
        "    def forward(self, x):\n",
        "        x = F.relu(self.conv1(x))\n",
        "        x = F.relu(self.conv2(x))\n",
        "        x = F.relu(self.conv3(x))\n",
        "        x = F.relu(self.conv4(x))\n",
        "\n",
        "        return x"
      ]
    },
    {
      "cell_type": "code",
      "execution_count": null,
      "metadata": {
        "colab": {
          "base_uri": "https://localhost:8080/"
        },
        "id": "srnJ2W-2XT8z",
        "outputId": "b5f38b79-7bc6-4008-d568-cc72e7b80ff3"
      },
      "outputs": [
        {
          "name": "stdout",
          "output_type": "stream",
          "text": [
            "4\n",
            "8\n",
            "16\n",
            "28\n"
          ]
        }
      ],
      "source": [
        "print(calc_H_out_conv2d_transpose(1, 4, 1, 0))\n",
        "print(calc_H_out_conv2d_transpose(4, 2, 2, 0))\n",
        "print(calc_H_out_conv2d_transpose(8, 2, 2, 0))\n",
        "print(calc_H_out_conv2d_transpose(16, 4, 2, 3))\n"
      ]
    },
    {
      "cell_type": "code",
      "execution_count": null,
      "metadata": {
        "id": "7yelYJ5xaktl"
      },
      "outputs": [],
      "source": [
        "# our decoder make 1x28x28 tensor from 64x1x1 tensor\n",
        "\n",
        "class Decoder(nn.Module):\n",
        "    def __init__(self):\n",
        "        super(Decoder, self).__init__()\n",
        "        self.conv1 = nn.ConvTranspose2d(in_channels=64, out_channels=32, kernel_size=4, stride=1, padding=0)       # 32x4x4\n",
        "        self.conv2 = nn.ConvTranspose2d(in_channels=32, out_channels=16, kernel_size=2, stride=2, padding=0)       # 16x8x8\n",
        "        self.conv3 = nn.ConvTranspose2d(in_channels=16, out_channels=8, kernel_size=2, stride=2, padding=0)       # 8x16x16\n",
        "        self.conv4 = nn.ConvTranspose2d(in_channels=8, out_channels=1, kernel_size=4, stride=2, padding=3)         # 1x28x28\n",
        "\n",
        "    def forward(self, x):\n",
        "        x = F.relu(self.conv1(x))\n",
        "        x = F.relu(self.conv2(x))\n",
        "        x = F.relu(self.conv3(x))\n",
        "        x = F.relu(self.conv4(x))\n",
        "        return x"
      ]
    },
    {
      "cell_type": "code",
      "execution_count": null,
      "metadata": {
        "id": "6yaIT17Kaktm"
      },
      "outputs": [],
      "source": [
        "class Autoencoder(nn.Module):\n",
        "    def __init__(self):\n",
        "        super(Autoencoder, self).__init__()\n",
        "        self.encoder = Encoder()\n",
        "        self.decoder = Decoder()\n",
        "\n",
        "    def forward(self, x):\n",
        "        x = self.encoder(x)\n",
        "        x = self.decoder(x)\n",
        "        return x"
      ]
    },
    {
      "cell_type": "code",
      "execution_count": null,
      "metadata": {
        "id": "qC978SVQaktm"
      },
      "outputs": [],
      "source": [
        "model = Autoencoder()\n",
        "\n",
        "optimizer = torch.optim.Adam(model.parameters(), lr=1e-2)\n",
        "loss_fn = nn.MSELoss()\n"
      ]
    },
    {
      "cell_type": "code",
      "execution_count": null,
      "metadata": {
        "colab": {
          "base_uri": "https://localhost:8080/",
          "height": 304
        },
        "id": "FTvh0s80aktn",
        "outputId": "b572af3a-d6d4-409a-8277-66d345ab1288"
      },
      "outputs": [
        {
          "data": {
            "image/png": "[encoded data removed]",
            "text/plain": [
              "<Figure size 2000x400 with 20 Axes>"
            ]
          },
          "metadata": {},
          "output_type": "display_data"
        }
      ],
      "source": [
        "# show 10 image from dataset and their reconstruction from untrained model\n",
        "\n",
        "fig, axs = plt.subplots(2, 10, figsize=(20, 4))\n",
        "for i in range(10):\n",
        "    img, _ = mnist_trainset[i]\n",
        "    axs[0, i].imshow(img[0], cmap='gray')\n",
        "    axs[0, i].axis('off')\n",
        "    axs[1, i].imshow(model(img.unsqueeze(0)).detach().numpy()[0][0], cmap='gray')\n",
        "    axs[1, i].axis('off')\n",
        "\n",
        "plt.show()"
      ]
    },
    {
      "cell_type": "code",
      "execution_count": null,
      "metadata": {
        "colab": {
          "background_save": true,
          "base_uri": "https://localhost:8080/"
        },
        "id": "iRUammVAanIs",
        "outputId": "4a5b4ccf-bf64-445f-f835-af6713c38102"
      },
      "outputs": [
        {
          "name": "stdout",
          "output_type": "stream",
          "text": [
            "epoch [1/15], loss:0.023555512339870136\n",
            "epoch [2/15], loss:0.012673150365054607\n",
            "epoch [3/15], loss:0.011971092863877614\n",
            "epoch [4/15], loss:0.011628647781908513\n",
            "epoch [5/15], loss:0.01144217794885238\n",
            "epoch [6/15], loss:0.011320363669594128\n",
            "epoch [7/15], loss:0.011222977006435394\n",
            "epoch [8/15], loss:0.01117893209507068\n",
            "epoch [9/15], loss:0.011078289244075615\n",
            "epoch [10/15], loss:0.010972484146058559\n",
            "epoch [11/15], loss:0.010945189071943362\n",
            "epoch [12/15], loss:0.010822304077198109\n",
            "epoch [13/15], loss:0.01078684969469905\n",
            "epoch [14/15], loss:0.010738407388826211\n",
            "epoch [15/15], loss:0.010695413602143527\n"
          ]
        }
      ],
      "source": [
        "from torch.utils.data import DataLoader\n",
        "\n",
        "batch_size = 32\n",
        "train_loader = DataLoader(mnist_trainset, batch_size=batch_size, shuffle=True)\n",
        "\n",
        "n_epochs = 15\n",
        "\n",
        "# train model\n",
        "\n",
        "for epoch in range(n_epochs):\n",
        "    model.train()\n",
        "    total_loss = 0\n",
        "\n",
        "    for data in train_loader:\n",
        "        img, _ = data\n",
        "        optimizer.zero_grad()\n",
        "        output = model(img)\n",
        "        loss = loss_fn(output, img)\n",
        "        total_loss += loss.item()\n",
        "        loss.backward()\n",
        "        optimizer.step()\n",
        "\n",
        "    average_loss = total_loss / len(train_loader)\n",
        "    print(f'epoch [{epoch+1}/{n_epochs}], loss:{average_loss}')"
      ]
    },
    {
      "cell_type": "code",
      "execution_count": null,
      "metadata": {
        "colab": {
          "background_save": true
        },
        "id": "GJuYwa0ldGV0",
        "outputId": "9a2ba615-fe8d-42b3-ee8c-a9cc455b9560"
      },
      "outputs": [
        {
          "data": {
            "image/png": "[encoded data removed]",
            "text/plain": [
              "<Figure size 2000x400 with 20 Axes>"
            ]
          },
          "metadata": {},
          "output_type": "display_data"
        }
      ],
      "source": [
        "# show 10 image from dataset and their reconstruction from trained model\n",
        "\n",
        "fig, axs = plt.subplots(2, 10, figsize=(20, 4))\n",
        "for i in range(10):\n",
        "    img, _ = mnist_trainset[i]\n",
        "    axs[0, i].imshow(img[0], cmap='gray')\n",
        "    axs[0, i].axis('off')\n",
        "    axs[1, i].imshow(model(img.unsqueeze(0)).detach().numpy()[0][0], cmap='gray')\n",
        "    axs[1, i].axis('off')\n",
        "\n",
        "plt.show()"
      ]
    }
  ],
  "metadata": {
    "colab": {
      "provenance": []
    },
    "kernelspec": {
      "display_name": "ml",
      "language": "python",
      "name": "python3"
    },
    "language_info": {
      "codemirror_mode": {
        "name": "ipython",
        "version": 3
      },
      "file_extension": ".py",
      "mimetype": "text/x-python",
      "name": "python",
      "nbconvert_exporter": "python",
      "pygments_lexer": "ipython3",
      "version": "3.8.18"
    }
  },
  "nbformat": 4,
  "nbformat_minor": 0
}